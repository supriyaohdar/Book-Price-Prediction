{
  "nbformat": 4,
  "nbformat_minor": 0,
  "metadata": {
    "colab": {
      "name": "BookPricePrediction.ipynb",
      "provenance": [],
      "collapsed_sections": [],
      "authorship_tag": "ABX9TyMi6mIvfEmffHsa/TrCp3dN",
      "include_colab_link": true
    },
    "kernelspec": {
      "name": "python3",
      "display_name": "Python 3"
    }
  },
  "cells": [
    {
      "cell_type": "markdown",
      "metadata": {
        "id": "view-in-github",
        "colab_type": "text"
      },
      "source": [
        "<a href=\"https://colab.research.google.com/github/supriyaohdar/Book-Price-Prediction/blob/main/BookPricePrediction.ipynb\" target=\"_parent\"><img src=\"https://colab.research.google.com/assets/colab-badge.svg\" alt=\"Open In Colab\"/></a>"
      ]
    },
    {
      "cell_type": "code",
      "metadata": {
        "id": "saYbWdyHkMk4"
      },
      "source": [
        "import pandas as pd\r\n",
        "import numpy as np"
      ],
      "execution_count": 265,
      "outputs": []
    },
    {
      "cell_type": "code",
      "metadata": {
        "id": "9evAErhRk63A"
      },
      "source": [
        "#from google.colab import files\r\n",
        "#uploaded=files.upload()"
      ],
      "execution_count": 266,
      "outputs": []
    },
    {
      "cell_type": "code",
      "metadata": {
        "colab": {
          "base_uri": "https://localhost:8080/",
          "height": 289
        },
        "id": "bBu3q0Ajmb_o",
        "outputId": "1083dee0-2847-46fc-8a54-64d09e5ffad1"
      },
      "source": [
        "traindata=pd.read_excel(\"Data_Train.xlsx\")\r\n",
        "testdata=pd.read_excel(\"Data_Test.xlsx\")\r\n",
        "traindata.head()"
      ],
      "execution_count": 267,
      "outputs": [
        {
          "output_type": "execute_result",
          "data": {
            "text/html": [
              "<div>\n",
              "<style scoped>\n",
              "    .dataframe tbody tr th:only-of-type {\n",
              "        vertical-align: middle;\n",
              "    }\n",
              "\n",
              "    .dataframe tbody tr th {\n",
              "        vertical-align: top;\n",
              "    }\n",
              "\n",
              "    .dataframe thead th {\n",
              "        text-align: right;\n",
              "    }\n",
              "</style>\n",
              "<table border=\"1\" class=\"dataframe\">\n",
              "  <thead>\n",
              "    <tr style=\"text-align: right;\">\n",
              "      <th></th>\n",
              "      <th>Title</th>\n",
              "      <th>Author</th>\n",
              "      <th>Edition</th>\n",
              "      <th>Reviews</th>\n",
              "      <th>Ratings</th>\n",
              "      <th>Synopsis</th>\n",
              "      <th>Genre</th>\n",
              "      <th>BookCategory</th>\n",
              "      <th>Price</th>\n",
              "    </tr>\n",
              "  </thead>\n",
              "  <tbody>\n",
              "    <tr>\n",
              "      <th>0</th>\n",
              "      <td>The Prisoner's Gold (The Hunters 3)</td>\n",
              "      <td>Chris Kuzneski</td>\n",
              "      <td>Paperback,– 10 Mar 2016</td>\n",
              "      <td>4.0 out of 5 stars</td>\n",
              "      <td>8 customer reviews</td>\n",
              "      <td>THE HUNTERS return in their third brilliant no...</td>\n",
              "      <td>Action &amp; Adventure (Books)</td>\n",
              "      <td>Action &amp; Adventure</td>\n",
              "      <td>220.00</td>\n",
              "    </tr>\n",
              "    <tr>\n",
              "      <th>1</th>\n",
              "      <td>Guru Dutt: A Tragedy in Three Acts</td>\n",
              "      <td>Arun Khopkar</td>\n",
              "      <td>Paperback,– 7 Nov 2012</td>\n",
              "      <td>3.9 out of 5 stars</td>\n",
              "      <td>14 customer reviews</td>\n",
              "      <td>A layered portrait of a troubled genius for wh...</td>\n",
              "      <td>Cinema &amp; Broadcast (Books)</td>\n",
              "      <td>Biographies, Diaries &amp; True Accounts</td>\n",
              "      <td>202.93</td>\n",
              "    </tr>\n",
              "    <tr>\n",
              "      <th>2</th>\n",
              "      <td>Leviathan (Penguin Classics)</td>\n",
              "      <td>Thomas Hobbes</td>\n",
              "      <td>Paperback,– 25 Feb 1982</td>\n",
              "      <td>4.8 out of 5 stars</td>\n",
              "      <td>6 customer reviews</td>\n",
              "      <td>\"During the time men live without a common Pow...</td>\n",
              "      <td>International Relations</td>\n",
              "      <td>Humour</td>\n",
              "      <td>299.00</td>\n",
              "    </tr>\n",
              "    <tr>\n",
              "      <th>3</th>\n",
              "      <td>A Pocket Full of Rye (Miss Marple)</td>\n",
              "      <td>Agatha Christie</td>\n",
              "      <td>Paperback,– 5 Oct 2017</td>\n",
              "      <td>4.1 out of 5 stars</td>\n",
              "      <td>13 customer reviews</td>\n",
              "      <td>A handful of grain is found in the pocket of a...</td>\n",
              "      <td>Contemporary Fiction (Books)</td>\n",
              "      <td>Crime, Thriller &amp; Mystery</td>\n",
              "      <td>180.00</td>\n",
              "    </tr>\n",
              "    <tr>\n",
              "      <th>4</th>\n",
              "      <td>LIFE 70 Years of Extraordinary Photography</td>\n",
              "      <td>Editors of Life</td>\n",
              "      <td>Hardcover,– 10 Oct 2006</td>\n",
              "      <td>5.0 out of 5 stars</td>\n",
              "      <td>1 customer review</td>\n",
              "      <td>For seven decades, \"Life\" has been thrilling t...</td>\n",
              "      <td>Photography Textbooks</td>\n",
              "      <td>Arts, Film &amp; Photography</td>\n",
              "      <td>965.62</td>\n",
              "    </tr>\n",
              "  </tbody>\n",
              "</table>\n",
              "</div>"
            ],
            "text/plain": [
              "                                        Title  ...   Price\n",
              "0         The Prisoner's Gold (The Hunters 3)  ...  220.00\n",
              "1          Guru Dutt: A Tragedy in Three Acts  ...  202.93\n",
              "2                Leviathan (Penguin Classics)  ...  299.00\n",
              "3          A Pocket Full of Rye (Miss Marple)  ...  180.00\n",
              "4  LIFE 70 Years of Extraordinary Photography  ...  965.62\n",
              "\n",
              "[5 rows x 9 columns]"
            ]
          },
          "metadata": {
            "tags": []
          },
          "execution_count": 267
        }
      ]
    },
    {
      "cell_type": "code",
      "metadata": {
        "colab": {
          "base_uri": "https://localhost:8080/",
          "height": 306
        },
        "id": "qcIcarsjnglQ",
        "outputId": "25a9b774-7c15-4b3e-e2f9-ae39e746a11f"
      },
      "source": [
        "testdata.head()"
      ],
      "execution_count": 268,
      "outputs": [
        {
          "output_type": "execute_result",
          "data": {
            "text/html": [
              "<div>\n",
              "<style scoped>\n",
              "    .dataframe tbody tr th:only-of-type {\n",
              "        vertical-align: middle;\n",
              "    }\n",
              "\n",
              "    .dataframe tbody tr th {\n",
              "        vertical-align: top;\n",
              "    }\n",
              "\n",
              "    .dataframe thead th {\n",
              "        text-align: right;\n",
              "    }\n",
              "</style>\n",
              "<table border=\"1\" class=\"dataframe\">\n",
              "  <thead>\n",
              "    <tr style=\"text-align: right;\">\n",
              "      <th></th>\n",
              "      <th>Title</th>\n",
              "      <th>Author</th>\n",
              "      <th>Edition</th>\n",
              "      <th>Reviews</th>\n",
              "      <th>Ratings</th>\n",
              "      <th>Synopsis</th>\n",
              "      <th>Genre</th>\n",
              "      <th>BookCategory</th>\n",
              "    </tr>\n",
              "  </thead>\n",
              "  <tbody>\n",
              "    <tr>\n",
              "      <th>0</th>\n",
              "      <td>The Complete Sherlock Holmes: 2 Boxes sets</td>\n",
              "      <td>Sir Arthur Conan Doyle</td>\n",
              "      <td>Mass Market Paperback,– 1 Oct 1986</td>\n",
              "      <td>4.4 out of 5 stars</td>\n",
              "      <td>960 customer reviews</td>\n",
              "      <td>A collection of entire body of work of the She...</td>\n",
              "      <td>Short Stories (Books)</td>\n",
              "      <td>Crime, Thriller &amp; Mystery</td>\n",
              "    </tr>\n",
              "    <tr>\n",
              "      <th>1</th>\n",
              "      <td>Learn Docker - Fundamentals of Docker 18.x: Ev...</td>\n",
              "      <td>Gabriel N. Schenker</td>\n",
              "      <td>Paperback,– Import, 26 Apr 2018</td>\n",
              "      <td>5.0 out of 5 stars</td>\n",
              "      <td>1 customer review</td>\n",
              "      <td>Enhance your software deployment workflow usin...</td>\n",
              "      <td>Operating Systems Textbooks</td>\n",
              "      <td>Computing, Internet &amp; Digital Media</td>\n",
              "    </tr>\n",
              "    <tr>\n",
              "      <th>2</th>\n",
              "      <td>Big Girl</td>\n",
              "      <td>Danielle Steel</td>\n",
              "      <td>Paperback,– 17 Mar 2011</td>\n",
              "      <td>5.0 out of 5 stars</td>\n",
              "      <td>4 customer reviews</td>\n",
              "      <td>'Watch out, world. Here I come!'\\nFor Victoria...</td>\n",
              "      <td>Romance (Books)</td>\n",
              "      <td>Romance</td>\n",
              "    </tr>\n",
              "    <tr>\n",
              "      <th>3</th>\n",
              "      <td>Think Python: How to Think Like a Computer Sci...</td>\n",
              "      <td>Allen B. Downey</td>\n",
              "      <td>Paperback,– 2016</td>\n",
              "      <td>4.1 out of 5 stars</td>\n",
              "      <td>11 customer reviews</td>\n",
              "      <td>If you want to learn how to program, working w...</td>\n",
              "      <td>Programming &amp; Software Development (Books)</td>\n",
              "      <td>Computing, Internet &amp; Digital Media</td>\n",
              "    </tr>\n",
              "    <tr>\n",
              "      <th>4</th>\n",
              "      <td>Oxford Word Skills: Advanced - Idioms &amp; Phrasa...</td>\n",
              "      <td>Redman Gairns</td>\n",
              "      <td>Paperback,– 26 Dec 2011</td>\n",
              "      <td>4.4 out of 5 stars</td>\n",
              "      <td>9 customer reviews</td>\n",
              "      <td>Learn and practise the verbs, prepositions and...</td>\n",
              "      <td>Linguistics (Books)</td>\n",
              "      <td>Language, Linguistics &amp; Writing</td>\n",
              "    </tr>\n",
              "  </tbody>\n",
              "</table>\n",
              "</div>"
            ],
            "text/plain": [
              "                                               Title  ...                         BookCategory\n",
              "0         The Complete Sherlock Holmes: 2 Boxes sets  ...            Crime, Thriller & Mystery\n",
              "1  Learn Docker - Fundamentals of Docker 18.x: Ev...  ...  Computing, Internet & Digital Media\n",
              "2                                           Big Girl  ...                              Romance\n",
              "3  Think Python: How to Think Like a Computer Sci...  ...  Computing, Internet & Digital Media\n",
              "4  Oxford Word Skills: Advanced - Idioms & Phrasa...  ...      Language, Linguistics & Writing\n",
              "\n",
              "[5 rows x 8 columns]"
            ]
          },
          "metadata": {
            "tags": []
          },
          "execution_count": 268
        }
      ]
    },
    {
      "cell_type": "code",
      "metadata": {
        "colab": {
          "base_uri": "https://localhost:8080/"
        },
        "id": "vrWO_9HipAKP",
        "outputId": "f1f2aa7e-c2e1-4f57-fbaa-103bf3c67a44"
      },
      "source": [
        "traindata.shape\r\n"
      ],
      "execution_count": 269,
      "outputs": [
        {
          "output_type": "execute_result",
          "data": {
            "text/plain": [
              "(6237, 9)"
            ]
          },
          "metadata": {
            "tags": []
          },
          "execution_count": 269
        }
      ]
    },
    {
      "cell_type": "code",
      "metadata": {
        "colab": {
          "base_uri": "https://localhost:8080/"
        },
        "id": "uZXm8eO2pgTh",
        "outputId": "d31de8cf-6724-4413-8d71-1010a6c128e9"
      },
      "source": [
        "testdata.shape"
      ],
      "execution_count": 270,
      "outputs": [
        {
          "output_type": "execute_result",
          "data": {
            "text/plain": [
              "(1560, 8)"
            ]
          },
          "metadata": {
            "tags": []
          },
          "execution_count": 270
        }
      ]
    },
    {
      "cell_type": "code",
      "metadata": {
        "colab": {
          "base_uri": "https://localhost:8080/",
          "height": 407
        },
        "id": "SZ9Ri1rFpt0I",
        "outputId": "4a32e3a6-5189-44b7-e429-596e56f52910"
      },
      "source": [
        "traindata.describe(include='all')"
      ],
      "execution_count": 271,
      "outputs": [
        {
          "output_type": "execute_result",
          "data": {
            "text/html": [
              "<div>\n",
              "<style scoped>\n",
              "    .dataframe tbody tr th:only-of-type {\n",
              "        vertical-align: middle;\n",
              "    }\n",
              "\n",
              "    .dataframe tbody tr th {\n",
              "        vertical-align: top;\n",
              "    }\n",
              "\n",
              "    .dataframe thead th {\n",
              "        text-align: right;\n",
              "    }\n",
              "</style>\n",
              "<table border=\"1\" class=\"dataframe\">\n",
              "  <thead>\n",
              "    <tr style=\"text-align: right;\">\n",
              "      <th></th>\n",
              "      <th>Title</th>\n",
              "      <th>Author</th>\n",
              "      <th>Edition</th>\n",
              "      <th>Reviews</th>\n",
              "      <th>Ratings</th>\n",
              "      <th>Synopsis</th>\n",
              "      <th>Genre</th>\n",
              "      <th>BookCategory</th>\n",
              "      <th>Price</th>\n",
              "    </tr>\n",
              "  </thead>\n",
              "  <tbody>\n",
              "    <tr>\n",
              "      <th>count</th>\n",
              "      <td>6237</td>\n",
              "      <td>6237</td>\n",
              "      <td>6237</td>\n",
              "      <td>6237</td>\n",
              "      <td>6237</td>\n",
              "      <td>6237</td>\n",
              "      <td>6237</td>\n",
              "      <td>6237</td>\n",
              "      <td>6237.000000</td>\n",
              "    </tr>\n",
              "    <tr>\n",
              "      <th>unique</th>\n",
              "      <td>5568</td>\n",
              "      <td>3679</td>\n",
              "      <td>3370</td>\n",
              "      <td>36</td>\n",
              "      <td>342</td>\n",
              "      <td>5549</td>\n",
              "      <td>345</td>\n",
              "      <td>11</td>\n",
              "      <td>NaN</td>\n",
              "    </tr>\n",
              "    <tr>\n",
              "      <th>top</th>\n",
              "      <td>A Game of Thrones (A Song of Ice and Fire)</td>\n",
              "      <td>Agatha Christie</td>\n",
              "      <td>Paperback,– 5 Oct 2017</td>\n",
              "      <td>5.0 out of 5 stars</td>\n",
              "      <td>1 customer review</td>\n",
              "      <td>A Tinkle Double Digest is two Tinkle Digests i...</td>\n",
              "      <td>Action &amp; Adventure (Books)</td>\n",
              "      <td>Action &amp; Adventure</td>\n",
              "      <td>NaN</td>\n",
              "    </tr>\n",
              "    <tr>\n",
              "      <th>freq</th>\n",
              "      <td>4</td>\n",
              "      <td>69</td>\n",
              "      <td>48</td>\n",
              "      <td>1375</td>\n",
              "      <td>1040</td>\n",
              "      <td>8</td>\n",
              "      <td>947</td>\n",
              "      <td>818</td>\n",
              "      <td>NaN</td>\n",
              "    </tr>\n",
              "    <tr>\n",
              "      <th>mean</th>\n",
              "      <td>NaN</td>\n",
              "      <td>NaN</td>\n",
              "      <td>NaN</td>\n",
              "      <td>NaN</td>\n",
              "      <td>NaN</td>\n",
              "      <td>NaN</td>\n",
              "      <td>NaN</td>\n",
              "      <td>NaN</td>\n",
              "      <td>560.707516</td>\n",
              "    </tr>\n",
              "    <tr>\n",
              "      <th>std</th>\n",
              "      <td>NaN</td>\n",
              "      <td>NaN</td>\n",
              "      <td>NaN</td>\n",
              "      <td>NaN</td>\n",
              "      <td>NaN</td>\n",
              "      <td>NaN</td>\n",
              "      <td>NaN</td>\n",
              "      <td>NaN</td>\n",
              "      <td>690.110657</td>\n",
              "    </tr>\n",
              "    <tr>\n",
              "      <th>min</th>\n",
              "      <td>NaN</td>\n",
              "      <td>NaN</td>\n",
              "      <td>NaN</td>\n",
              "      <td>NaN</td>\n",
              "      <td>NaN</td>\n",
              "      <td>NaN</td>\n",
              "      <td>NaN</td>\n",
              "      <td>NaN</td>\n",
              "      <td>25.000000</td>\n",
              "    </tr>\n",
              "    <tr>\n",
              "      <th>25%</th>\n",
              "      <td>NaN</td>\n",
              "      <td>NaN</td>\n",
              "      <td>NaN</td>\n",
              "      <td>NaN</td>\n",
              "      <td>NaN</td>\n",
              "      <td>NaN</td>\n",
              "      <td>NaN</td>\n",
              "      <td>NaN</td>\n",
              "      <td>249.180000</td>\n",
              "    </tr>\n",
              "    <tr>\n",
              "      <th>50%</th>\n",
              "      <td>NaN</td>\n",
              "      <td>NaN</td>\n",
              "      <td>NaN</td>\n",
              "      <td>NaN</td>\n",
              "      <td>NaN</td>\n",
              "      <td>NaN</td>\n",
              "      <td>NaN</td>\n",
              "      <td>NaN</td>\n",
              "      <td>373.000000</td>\n",
              "    </tr>\n",
              "    <tr>\n",
              "      <th>75%</th>\n",
              "      <td>NaN</td>\n",
              "      <td>NaN</td>\n",
              "      <td>NaN</td>\n",
              "      <td>NaN</td>\n",
              "      <td>NaN</td>\n",
              "      <td>NaN</td>\n",
              "      <td>NaN</td>\n",
              "      <td>NaN</td>\n",
              "      <td>599.000000</td>\n",
              "    </tr>\n",
              "    <tr>\n",
              "      <th>max</th>\n",
              "      <td>NaN</td>\n",
              "      <td>NaN</td>\n",
              "      <td>NaN</td>\n",
              "      <td>NaN</td>\n",
              "      <td>NaN</td>\n",
              "      <td>NaN</td>\n",
              "      <td>NaN</td>\n",
              "      <td>NaN</td>\n",
              "      <td>14100.000000</td>\n",
              "    </tr>\n",
              "  </tbody>\n",
              "</table>\n",
              "</div>"
            ],
            "text/plain": [
              "                                             Title  ...         Price\n",
              "count                                         6237  ...   6237.000000\n",
              "unique                                        5568  ...           NaN\n",
              "top     A Game of Thrones (A Song of Ice and Fire)  ...           NaN\n",
              "freq                                             4  ...           NaN\n",
              "mean                                           NaN  ...    560.707516\n",
              "std                                            NaN  ...    690.110657\n",
              "min                                            NaN  ...     25.000000\n",
              "25%                                            NaN  ...    249.180000\n",
              "50%                                            NaN  ...    373.000000\n",
              "75%                                            NaN  ...    599.000000\n",
              "max                                            NaN  ...  14100.000000\n",
              "\n",
              "[11 rows x 9 columns]"
            ]
          },
          "metadata": {
            "tags": []
          },
          "execution_count": 271
        }
      ]
    },
    {
      "cell_type": "code",
      "metadata": {
        "colab": {
          "base_uri": "https://localhost:8080/",
          "height": 190
        },
        "id": "kN_b5l1iqHVx",
        "outputId": "1a5197ac-c7c9-48a8-9a69-82fd0cf23a97"
      },
      "source": [
        "testdata.describe(include='all')"
      ],
      "execution_count": 272,
      "outputs": [
        {
          "output_type": "execute_result",
          "data": {
            "text/html": [
              "<div>\n",
              "<style scoped>\n",
              "    .dataframe tbody tr th:only-of-type {\n",
              "        vertical-align: middle;\n",
              "    }\n",
              "\n",
              "    .dataframe tbody tr th {\n",
              "        vertical-align: top;\n",
              "    }\n",
              "\n",
              "    .dataframe thead th {\n",
              "        text-align: right;\n",
              "    }\n",
              "</style>\n",
              "<table border=\"1\" class=\"dataframe\">\n",
              "  <thead>\n",
              "    <tr style=\"text-align: right;\">\n",
              "      <th></th>\n",
              "      <th>Title</th>\n",
              "      <th>Author</th>\n",
              "      <th>Edition</th>\n",
              "      <th>Reviews</th>\n",
              "      <th>Ratings</th>\n",
              "      <th>Synopsis</th>\n",
              "      <th>Genre</th>\n",
              "      <th>BookCategory</th>\n",
              "    </tr>\n",
              "  </thead>\n",
              "  <tbody>\n",
              "    <tr>\n",
              "      <th>count</th>\n",
              "      <td>1560</td>\n",
              "      <td>1560</td>\n",
              "      <td>1560</td>\n",
              "      <td>1560</td>\n",
              "      <td>1560</td>\n",
              "      <td>1560</td>\n",
              "      <td>1560</td>\n",
              "      <td>1560</td>\n",
              "    </tr>\n",
              "    <tr>\n",
              "      <th>unique</th>\n",
              "      <td>1521</td>\n",
              "      <td>1224</td>\n",
              "      <td>1259</td>\n",
              "      <td>30</td>\n",
              "      <td>163</td>\n",
              "      <td>1519</td>\n",
              "      <td>225</td>\n",
              "      <td>11</td>\n",
              "    </tr>\n",
              "    <tr>\n",
              "      <th>top</th>\n",
              "      <td>The Five Greatest Warriors (Jack West Series)</td>\n",
              "      <td>Agatha Christie</td>\n",
              "      <td>Paperback,– 2016</td>\n",
              "      <td>5.0 out of 5 stars</td>\n",
              "      <td>1 customer review</td>\n",
              "      <td>A Guardian Pick for 2019\\nThe People vs. Putin...</td>\n",
              "      <td>Action &amp; Adventure (Books)</td>\n",
              "      <td>Action &amp; Adventure</td>\n",
              "    </tr>\n",
              "    <tr>\n",
              "      <th>freq</th>\n",
              "      <td>3</td>\n",
              "      <td>18</td>\n",
              "      <td>12</td>\n",
              "      <td>376</td>\n",
              "      <td>288</td>\n",
              "      <td>3</td>\n",
              "      <td>236</td>\n",
              "      <td>218</td>\n",
              "    </tr>\n",
              "  </tbody>\n",
              "</table>\n",
              "</div>"
            ],
            "text/plain": [
              "                                                Title  ...        BookCategory\n",
              "count                                            1560  ...                1560\n",
              "unique                                           1521  ...                  11\n",
              "top     The Five Greatest Warriors (Jack West Series)  ...  Action & Adventure\n",
              "freq                                                3  ...                 218\n",
              "\n",
              "[4 rows x 8 columns]"
            ]
          },
          "metadata": {
            "tags": []
          },
          "execution_count": 272
        }
      ]
    },
    {
      "cell_type": "code",
      "metadata": {
        "colab": {
          "base_uri": "https://localhost:8080/"
        },
        "id": "Tua0GkEWqbbG",
        "outputId": "54729218-e08f-45c9-e903-d74599174d4c"
      },
      "source": [
        "traindata.dtypes"
      ],
      "execution_count": 273,
      "outputs": [
        {
          "output_type": "execute_result",
          "data": {
            "text/plain": [
              "Title            object\n",
              "Author           object\n",
              "Edition          object\n",
              "Reviews          object\n",
              "Ratings          object\n",
              "Synopsis         object\n",
              "Genre            object\n",
              "BookCategory     object\n",
              "Price           float64\n",
              "dtype: object"
            ]
          },
          "metadata": {
            "tags": []
          },
          "execution_count": 273
        }
      ]
    },
    {
      "cell_type": "code",
      "metadata": {
        "colab": {
          "base_uri": "https://localhost:8080/"
        },
        "id": "yQ873M0lqw1o",
        "outputId": "f25287bb-70bb-4158-9ddf-a3fb7e565588"
      },
      "source": [
        "testdata.dtypes"
      ],
      "execution_count": 274,
      "outputs": [
        {
          "output_type": "execute_result",
          "data": {
            "text/plain": [
              "Title           object\n",
              "Author          object\n",
              "Edition         object\n",
              "Reviews         object\n",
              "Ratings         object\n",
              "Synopsis        object\n",
              "Genre           object\n",
              "BookCategory    object\n",
              "dtype: object"
            ]
          },
          "metadata": {
            "tags": []
          },
          "execution_count": 274
        }
      ]
    },
    {
      "cell_type": "code",
      "metadata": {
        "colab": {
          "base_uri": "https://localhost:8080/",
          "height": 204
        },
        "id": "Rli0Emt_tWKR",
        "outputId": "86e4b562-309b-4e7a-d78f-3acf624a54b8"
      },
      "source": [
        "traindata.drop(columns=['Title', 'Synopsis', 'Genre','BookCategory','Reviews','Ratings'], inplace=True)\r\n",
        "testdata.drop(columns=['Title',  'Synopsis', 'Genre','BookCategory','Reviews','Ratings'], inplace=True)\r\n",
        "traindata.head()"
      ],
      "execution_count": 275,
      "outputs": [
        {
          "output_type": "execute_result",
          "data": {
            "text/html": [
              "<div>\n",
              "<style scoped>\n",
              "    .dataframe tbody tr th:only-of-type {\n",
              "        vertical-align: middle;\n",
              "    }\n",
              "\n",
              "    .dataframe tbody tr th {\n",
              "        vertical-align: top;\n",
              "    }\n",
              "\n",
              "    .dataframe thead th {\n",
              "        text-align: right;\n",
              "    }\n",
              "</style>\n",
              "<table border=\"1\" class=\"dataframe\">\n",
              "  <thead>\n",
              "    <tr style=\"text-align: right;\">\n",
              "      <th></th>\n",
              "      <th>Author</th>\n",
              "      <th>Edition</th>\n",
              "      <th>Price</th>\n",
              "    </tr>\n",
              "  </thead>\n",
              "  <tbody>\n",
              "    <tr>\n",
              "      <th>0</th>\n",
              "      <td>Chris Kuzneski</td>\n",
              "      <td>Paperback,– 10 Mar 2016</td>\n",
              "      <td>220.00</td>\n",
              "    </tr>\n",
              "    <tr>\n",
              "      <th>1</th>\n",
              "      <td>Arun Khopkar</td>\n",
              "      <td>Paperback,– 7 Nov 2012</td>\n",
              "      <td>202.93</td>\n",
              "    </tr>\n",
              "    <tr>\n",
              "      <th>2</th>\n",
              "      <td>Thomas Hobbes</td>\n",
              "      <td>Paperback,– 25 Feb 1982</td>\n",
              "      <td>299.00</td>\n",
              "    </tr>\n",
              "    <tr>\n",
              "      <th>3</th>\n",
              "      <td>Agatha Christie</td>\n",
              "      <td>Paperback,– 5 Oct 2017</td>\n",
              "      <td>180.00</td>\n",
              "    </tr>\n",
              "    <tr>\n",
              "      <th>4</th>\n",
              "      <td>Editors of Life</td>\n",
              "      <td>Hardcover,– 10 Oct 2006</td>\n",
              "      <td>965.62</td>\n",
              "    </tr>\n",
              "  </tbody>\n",
              "</table>\n",
              "</div>"
            ],
            "text/plain": [
              "            Author                  Edition   Price\n",
              "0   Chris Kuzneski  Paperback,– 10 Mar 2016  220.00\n",
              "1     Arun Khopkar   Paperback,– 7 Nov 2012  202.93\n",
              "2    Thomas Hobbes  Paperback,– 25 Feb 1982  299.00\n",
              "3  Agatha Christie   Paperback,– 5 Oct 2017  180.00\n",
              "4  Editors of Life  Hardcover,– 10 Oct 2006  965.62"
            ]
          },
          "metadata": {
            "tags": []
          },
          "execution_count": 275
        }
      ]
    },
    {
      "cell_type": "code",
      "metadata": {
        "colab": {
          "base_uri": "https://localhost:8080/",
          "height": 204
        },
        "id": "yCK5zS-uv6Qa",
        "outputId": "5738d5db-53cd-493b-929b-658e6b890938"
      },
      "source": [
        "\r\n",
        "traindata['Edition Type'] = traindata['Edition'].str.split('–').str[0].str.replace(',', '')\r\n",
        "traindata['Edition Year'] = traindata['Edition'].str.split(' ').str[-1]\r\n",
        "traindata.head()\r\n"
      ],
      "execution_count": 276,
      "outputs": [
        {
          "output_type": "execute_result",
          "data": {
            "text/html": [
              "<div>\n",
              "<style scoped>\n",
              "    .dataframe tbody tr th:only-of-type {\n",
              "        vertical-align: middle;\n",
              "    }\n",
              "\n",
              "    .dataframe tbody tr th {\n",
              "        vertical-align: top;\n",
              "    }\n",
              "\n",
              "    .dataframe thead th {\n",
              "        text-align: right;\n",
              "    }\n",
              "</style>\n",
              "<table border=\"1\" class=\"dataframe\">\n",
              "  <thead>\n",
              "    <tr style=\"text-align: right;\">\n",
              "      <th></th>\n",
              "      <th>Author</th>\n",
              "      <th>Edition</th>\n",
              "      <th>Price</th>\n",
              "      <th>Edition Type</th>\n",
              "      <th>Edition Year</th>\n",
              "    </tr>\n",
              "  </thead>\n",
              "  <tbody>\n",
              "    <tr>\n",
              "      <th>0</th>\n",
              "      <td>Chris Kuzneski</td>\n",
              "      <td>Paperback,– 10 Mar 2016</td>\n",
              "      <td>220.00</td>\n",
              "      <td>Paperback</td>\n",
              "      <td>2016</td>\n",
              "    </tr>\n",
              "    <tr>\n",
              "      <th>1</th>\n",
              "      <td>Arun Khopkar</td>\n",
              "      <td>Paperback,– 7 Nov 2012</td>\n",
              "      <td>202.93</td>\n",
              "      <td>Paperback</td>\n",
              "      <td>2012</td>\n",
              "    </tr>\n",
              "    <tr>\n",
              "      <th>2</th>\n",
              "      <td>Thomas Hobbes</td>\n",
              "      <td>Paperback,– 25 Feb 1982</td>\n",
              "      <td>299.00</td>\n",
              "      <td>Paperback</td>\n",
              "      <td>1982</td>\n",
              "    </tr>\n",
              "    <tr>\n",
              "      <th>3</th>\n",
              "      <td>Agatha Christie</td>\n",
              "      <td>Paperback,– 5 Oct 2017</td>\n",
              "      <td>180.00</td>\n",
              "      <td>Paperback</td>\n",
              "      <td>2017</td>\n",
              "    </tr>\n",
              "    <tr>\n",
              "      <th>4</th>\n",
              "      <td>Editors of Life</td>\n",
              "      <td>Hardcover,– 10 Oct 2006</td>\n",
              "      <td>965.62</td>\n",
              "      <td>Hardcover</td>\n",
              "      <td>2006</td>\n",
              "    </tr>\n",
              "  </tbody>\n",
              "</table>\n",
              "</div>"
            ],
            "text/plain": [
              "            Author                  Edition   Price Edition Type Edition Year\n",
              "0   Chris Kuzneski  Paperback,– 10 Mar 2016  220.00    Paperback         2016\n",
              "1     Arun Khopkar   Paperback,– 7 Nov 2012  202.93    Paperback         2012\n",
              "2    Thomas Hobbes  Paperback,– 25 Feb 1982  299.00    Paperback         1982\n",
              "3  Agatha Christie   Paperback,– 5 Oct 2017  180.00    Paperback         2017\n",
              "4  Editors of Life  Hardcover,– 10 Oct 2006  965.62    Hardcover         2006"
            ]
          },
          "metadata": {
            "tags": []
          },
          "execution_count": 276
        }
      ]
    },
    {
      "cell_type": "code",
      "metadata": {
        "colab": {
          "base_uri": "https://localhost:8080/",
          "height": 204
        },
        "id": "rAGNu3gIyPuR",
        "outputId": "597708c3-df82-45da-9269-a2004c7f2415"
      },
      "source": [
        "traindata.drop(columns=['Edition'], inplace=True)\r\n",
        "traindata.head()"
      ],
      "execution_count": 277,
      "outputs": [
        {
          "output_type": "execute_result",
          "data": {
            "text/html": [
              "<div>\n",
              "<style scoped>\n",
              "    .dataframe tbody tr th:only-of-type {\n",
              "        vertical-align: middle;\n",
              "    }\n",
              "\n",
              "    .dataframe tbody tr th {\n",
              "        vertical-align: top;\n",
              "    }\n",
              "\n",
              "    .dataframe thead th {\n",
              "        text-align: right;\n",
              "    }\n",
              "</style>\n",
              "<table border=\"1\" class=\"dataframe\">\n",
              "  <thead>\n",
              "    <tr style=\"text-align: right;\">\n",
              "      <th></th>\n",
              "      <th>Author</th>\n",
              "      <th>Price</th>\n",
              "      <th>Edition Type</th>\n",
              "      <th>Edition Year</th>\n",
              "    </tr>\n",
              "  </thead>\n",
              "  <tbody>\n",
              "    <tr>\n",
              "      <th>0</th>\n",
              "      <td>Chris Kuzneski</td>\n",
              "      <td>220.00</td>\n",
              "      <td>Paperback</td>\n",
              "      <td>2016</td>\n",
              "    </tr>\n",
              "    <tr>\n",
              "      <th>1</th>\n",
              "      <td>Arun Khopkar</td>\n",
              "      <td>202.93</td>\n",
              "      <td>Paperback</td>\n",
              "      <td>2012</td>\n",
              "    </tr>\n",
              "    <tr>\n",
              "      <th>2</th>\n",
              "      <td>Thomas Hobbes</td>\n",
              "      <td>299.00</td>\n",
              "      <td>Paperback</td>\n",
              "      <td>1982</td>\n",
              "    </tr>\n",
              "    <tr>\n",
              "      <th>3</th>\n",
              "      <td>Agatha Christie</td>\n",
              "      <td>180.00</td>\n",
              "      <td>Paperback</td>\n",
              "      <td>2017</td>\n",
              "    </tr>\n",
              "    <tr>\n",
              "      <th>4</th>\n",
              "      <td>Editors of Life</td>\n",
              "      <td>965.62</td>\n",
              "      <td>Hardcover</td>\n",
              "      <td>2006</td>\n",
              "    </tr>\n",
              "  </tbody>\n",
              "</table>\n",
              "</div>"
            ],
            "text/plain": [
              "            Author   Price Edition Type Edition Year\n",
              "0   Chris Kuzneski  220.00    Paperback         2016\n",
              "1     Arun Khopkar  202.93    Paperback         2012\n",
              "2    Thomas Hobbes  299.00    Paperback         1982\n",
              "3  Agatha Christie  180.00    Paperback         2017\n",
              "4  Editors of Life  965.62    Hardcover         2006"
            ]
          },
          "metadata": {
            "tags": []
          },
          "execution_count": 277
        }
      ]
    },
    {
      "cell_type": "code",
      "metadata": {
        "colab": {
          "base_uri": "https://localhost:8080/"
        },
        "id": "fcOYq8Vvz2Cq",
        "outputId": "51b4a983-06e6-4d88-a910-5981a3dcccba"
      },
      "source": [
        "traindata.dtypes"
      ],
      "execution_count": 278,
      "outputs": [
        {
          "output_type": "execute_result",
          "data": {
            "text/plain": [
              "Author           object\n",
              "Price           float64\n",
              "Edition Type     object\n",
              "Edition Year     object\n",
              "dtype: object"
            ]
          },
          "metadata": {
            "tags": []
          },
          "execution_count": 278
        }
      ]
    },
    {
      "cell_type": "code",
      "metadata": {
        "colab": {
          "base_uri": "https://localhost:8080/"
        },
        "id": "4rvqXz1EzQXA",
        "outputId": "035a231c-bbd1-429a-9e59-2a69b802ba98"
      },
      "source": [
        "traindata['Edition Type'].value_counts()"
      ],
      "execution_count": 279,
      "outputs": [
        {
          "output_type": "execute_result",
          "data": {
            "text/plain": [
              "Paperback                5193\n",
              "Hardcover                 823\n",
              "Mass Market Paperback     155\n",
              "Sheet music                24\n",
              "Flexibound                 15\n",
              "Cards                       8\n",
              "Spiral-bound                4\n",
              "Tankobon Softcover          3\n",
              "Loose Leaf                  2\n",
              "Leather Bound               1\n",
              "(German)Paperback           1\n",
              "Library Binding             1\n",
              "(Spanish)Paperback          1\n",
              "Plastic Comb                1\n",
              "Board book                  1\n",
              "Perfect Paperback           1\n",
              "(French)Paperback           1\n",
              "Product Bundle              1\n",
              "(Kannada)Paperback          1\n",
              "Name: Edition Type, dtype: int64"
            ]
          },
          "metadata": {
            "tags": []
          },
          "execution_count": 279
        }
      ]
    },
    {
      "cell_type": "code",
      "metadata": {
        "colab": {
          "base_uri": "https://localhost:8080/"
        },
        "id": "jYPwOFMvzos0",
        "outputId": "87b1e5ed-bc71-49e4-f2e9-575d5a11b2ec"
      },
      "source": [
        "traindata['Edition Year'].value_counts()"
      ],
      "execution_count": 280,
      "outputs": [
        {
          "output_type": "execute_result",
          "data": {
            "text/plain": [
              "2018         811\n",
              "2017         757\n",
              "2016         659\n",
              "2015         519\n",
              "2014         402\n",
              "            ... \n",
              "Audiobook      1\n",
              "1925           1\n",
              "1905           1\n",
              "NTSC           1\n",
              "1981           1\n",
              "Name: Edition Year, Length: 64, dtype: int64"
            ]
          },
          "metadata": {
            "tags": []
          },
          "execution_count": 280
        }
      ]
    },
    {
      "cell_type": "code",
      "metadata": {
        "colab": {
          "base_uri": "https://localhost:8080/"
        },
        "id": "FxfsBaph3nKs",
        "outputId": "d16af948-bdc2-4665-acac-09d99a9f97fd"
      },
      "source": [
        "traindata['Author'].value_counts()"
      ],
      "execution_count": 281,
      "outputs": [
        {
          "output_type": "execute_result",
          "data": {
            "text/plain": [
              "Agatha Christie          69\n",
              "Ladybird                 49\n",
              "DK                       48\n",
              "Herge                    34\n",
              "Albert Uderzo            34\n",
              "                         ..\n",
              "A. Revathi, V. Geetha     1\n",
              "Dashiell Hammett          1\n",
              "Sally Rooney              1\n",
              "Celeste Ng                1\n",
              "Mary Kom                  1\n",
              "Name: Author, Length: 3679, dtype: int64"
            ]
          },
          "metadata": {
            "tags": []
          },
          "execution_count": 281
        }
      ]
    },
    {
      "cell_type": "code",
      "metadata": {
        "colab": {
          "base_uri": "https://localhost:8080/",
          "height": 204
        },
        "id": "fl0k3qTmwpwI",
        "outputId": "341f2dd1-3572-4505-8c63-4d7ffc946b5d"
      },
      "source": [
        "testdata['Edition Type'] = testdata['Edition'].str.split('–').str[0].str.replace(',', '')\r\n",
        "testdata['Edition Year'] = testdata['Edition'].str.split(' ').str[-1]\r\n",
        "testdata.head()"
      ],
      "execution_count": 282,
      "outputs": [
        {
          "output_type": "execute_result",
          "data": {
            "text/html": [
              "<div>\n",
              "<style scoped>\n",
              "    .dataframe tbody tr th:only-of-type {\n",
              "        vertical-align: middle;\n",
              "    }\n",
              "\n",
              "    .dataframe tbody tr th {\n",
              "        vertical-align: top;\n",
              "    }\n",
              "\n",
              "    .dataframe thead th {\n",
              "        text-align: right;\n",
              "    }\n",
              "</style>\n",
              "<table border=\"1\" class=\"dataframe\">\n",
              "  <thead>\n",
              "    <tr style=\"text-align: right;\">\n",
              "      <th></th>\n",
              "      <th>Author</th>\n",
              "      <th>Edition</th>\n",
              "      <th>Edition Type</th>\n",
              "      <th>Edition Year</th>\n",
              "    </tr>\n",
              "  </thead>\n",
              "  <tbody>\n",
              "    <tr>\n",
              "      <th>0</th>\n",
              "      <td>Sir Arthur Conan Doyle</td>\n",
              "      <td>Mass Market Paperback,– 1 Oct 1986</td>\n",
              "      <td>Mass Market Paperback</td>\n",
              "      <td>1986</td>\n",
              "    </tr>\n",
              "    <tr>\n",
              "      <th>1</th>\n",
              "      <td>Gabriel N. Schenker</td>\n",
              "      <td>Paperback,– Import, 26 Apr 2018</td>\n",
              "      <td>Paperback</td>\n",
              "      <td>2018</td>\n",
              "    </tr>\n",
              "    <tr>\n",
              "      <th>2</th>\n",
              "      <td>Danielle Steel</td>\n",
              "      <td>Paperback,– 17 Mar 2011</td>\n",
              "      <td>Paperback</td>\n",
              "      <td>2011</td>\n",
              "    </tr>\n",
              "    <tr>\n",
              "      <th>3</th>\n",
              "      <td>Allen B. Downey</td>\n",
              "      <td>Paperback,– 2016</td>\n",
              "      <td>Paperback</td>\n",
              "      <td>2016</td>\n",
              "    </tr>\n",
              "    <tr>\n",
              "      <th>4</th>\n",
              "      <td>Redman Gairns</td>\n",
              "      <td>Paperback,– 26 Dec 2011</td>\n",
              "      <td>Paperback</td>\n",
              "      <td>2011</td>\n",
              "    </tr>\n",
              "  </tbody>\n",
              "</table>\n",
              "</div>"
            ],
            "text/plain": [
              "                   Author  ... Edition Year\n",
              "0  Sir Arthur Conan Doyle  ...         1986\n",
              "1     Gabriel N. Schenker  ...         2018\n",
              "2          Danielle Steel  ...         2011\n",
              "3         Allen B. Downey  ...         2016\n",
              "4           Redman Gairns  ...         2011\n",
              "\n",
              "[5 rows x 4 columns]"
            ]
          },
          "metadata": {
            "tags": []
          },
          "execution_count": 282
        }
      ]
    },
    {
      "cell_type": "code",
      "metadata": {
        "colab": {
          "base_uri": "https://localhost:8080/",
          "height": 204
        },
        "id": "2VfizmTbyVLR",
        "outputId": "34a20660-95f5-45f6-a707-52a1b600abc3"
      },
      "source": [
        "testdata.drop('Edition',axis=1,inplace=True)\r\n",
        "testdata.head()"
      ],
      "execution_count": 283,
      "outputs": [
        {
          "output_type": "execute_result",
          "data": {
            "text/html": [
              "<div>\n",
              "<style scoped>\n",
              "    .dataframe tbody tr th:only-of-type {\n",
              "        vertical-align: middle;\n",
              "    }\n",
              "\n",
              "    .dataframe tbody tr th {\n",
              "        vertical-align: top;\n",
              "    }\n",
              "\n",
              "    .dataframe thead th {\n",
              "        text-align: right;\n",
              "    }\n",
              "</style>\n",
              "<table border=\"1\" class=\"dataframe\">\n",
              "  <thead>\n",
              "    <tr style=\"text-align: right;\">\n",
              "      <th></th>\n",
              "      <th>Author</th>\n",
              "      <th>Edition Type</th>\n",
              "      <th>Edition Year</th>\n",
              "    </tr>\n",
              "  </thead>\n",
              "  <tbody>\n",
              "    <tr>\n",
              "      <th>0</th>\n",
              "      <td>Sir Arthur Conan Doyle</td>\n",
              "      <td>Mass Market Paperback</td>\n",
              "      <td>1986</td>\n",
              "    </tr>\n",
              "    <tr>\n",
              "      <th>1</th>\n",
              "      <td>Gabriel N. Schenker</td>\n",
              "      <td>Paperback</td>\n",
              "      <td>2018</td>\n",
              "    </tr>\n",
              "    <tr>\n",
              "      <th>2</th>\n",
              "      <td>Danielle Steel</td>\n",
              "      <td>Paperback</td>\n",
              "      <td>2011</td>\n",
              "    </tr>\n",
              "    <tr>\n",
              "      <th>3</th>\n",
              "      <td>Allen B. Downey</td>\n",
              "      <td>Paperback</td>\n",
              "      <td>2016</td>\n",
              "    </tr>\n",
              "    <tr>\n",
              "      <th>4</th>\n",
              "      <td>Redman Gairns</td>\n",
              "      <td>Paperback</td>\n",
              "      <td>2011</td>\n",
              "    </tr>\n",
              "  </tbody>\n",
              "</table>\n",
              "</div>"
            ],
            "text/plain": [
              "                   Author           Edition Type Edition Year\n",
              "0  Sir Arthur Conan Doyle  Mass Market Paperback         1986\n",
              "1     Gabriel N. Schenker              Paperback         2018\n",
              "2          Danielle Steel              Paperback         2011\n",
              "3         Allen B. Downey              Paperback         2016\n",
              "4           Redman Gairns              Paperback         2011"
            ]
          },
          "metadata": {
            "tags": []
          },
          "execution_count": 283
        }
      ]
    },
    {
      "cell_type": "code",
      "metadata": {
        "colab": {
          "base_uri": "https://localhost:8080/"
        },
        "id": "6ygIeuk6yiJz",
        "outputId": "3efeb1f4-e252-4869-a556-ce261d8c66b1"
      },
      "source": [
        "testdata['Edition Type'].value_counts()\r\n"
      ],
      "execution_count": 284,
      "outputs": [
        {
          "output_type": "execute_result",
          "data": {
            "text/plain": [
              "Paperback                1265\n",
              "Hardcover                 233\n",
              "Mass Market Paperback      45\n",
              "Sheet music                 8\n",
              "Flexibound                  4\n",
              "Spiral-bound                2\n",
              "(Chinese)Paperback          1\n",
              "Cards                       1\n",
              "Loose Leaf                  1\n",
              "Name: Edition Type, dtype: int64"
            ]
          },
          "metadata": {
            "tags": []
          },
          "execution_count": 284
        }
      ]
    },
    {
      "cell_type": "code",
      "metadata": {
        "id": "9gTOCvnA19gI",
        "colab": {
          "base_uri": "https://localhost:8080/",
          "height": 621
        },
        "outputId": "1846b364-52e8-4cab-9386-803af33db160"
      },
      "source": [
        "import matplotlib.pyplot as plt\r\n",
        "import seaborn as sns\r\n",
        "import warnings \r\n",
        "warnings.filterwarnings('ignore')\r\n",
        "\r\n",
        "plt.figure(figsize=(20, 8))\r\n",
        "sns.barplot(x=traindata['Edition Type'], y=traindata['Price'])\r\n",
        "plt.xticks(rotation=90)\r\n",
        "plt.plot()"
      ],
      "execution_count": 285,
      "outputs": [
        {
          "output_type": "execute_result",
          "data": {
            "text/plain": [
              "[]"
            ]
          },
          "metadata": {
            "tags": []
          },
          "execution_count": 285
        },
        {
          "output_type": "display_data",
          "data": {
            "image/png": "[encoded data removed]",
            "text/plain": [
              "<Figure size 1440x576 with 1 Axes>"
            ]
          },
          "metadata": {
            "tags": [],
            "needs_background": "light"
          }
        }
      ]
    },
    {
      "cell_type": "code",
      "metadata": {
        "colab": {
          "base_uri": "https://localhost:8080/",
          "height": 977
        },
        "id": "NE7gjCI9py5s",
        "outputId": "28a3feb0-ec54-45bf-db4e-4c217fbc0db7"
      },
      "source": [
        "plt.figure(figsize=(20, 8))\r\n",
        "sns.barplot(x=traindata['Author'], y=traindata['Price'])\r\n",
        "plt.xticks(rotation=90)\r\n",
        "plt.plot()"
      ],
      "execution_count": 286,
      "outputs": [
        {
          "output_type": "execute_result",
          "data": {
            "text/plain": [
              "[]"
            ]
          },
          "metadata": {
            "tags": []
          },
          "execution_count": 286
        },
        {
          "output_type": "display_data",
          "data": {
            "image/png": "[encoded data removed]",
            "text/plain": [
              "<Figure size 1440x576 with 1 Axes>"
            ]
          },
          "metadata": {
            "tags": [],
            "needs_background": "light"
          }
        }
      ]
    },
    {
      "cell_type": "code",
      "metadata": {
        "colab": {
          "base_uri": "https://localhost:8080/",
          "height": 562
        },
        "id": "CGeFflG_zdqT",
        "outputId": "8937676f-e7f2-42b3-a672-af1add85ff74"
      },
      "source": [
        "plt.figure(figsize=(20, 8))\r\n",
        "sns.barplot(x=traindata['Edition Year'], y=traindata['Price'])\r\n",
        "plt.xticks(rotation=90)\r\n",
        "plt.plot()"
      ],
      "execution_count": 287,
      "outputs": [
        {
          "output_type": "execute_result",
          "data": {
            "text/plain": [
              "[]"
            ]
          },
          "metadata": {
            "tags": []
          },
          "execution_count": 287
        },
        {
          "output_type": "display_data",
          "data": {
            "image/png": "[encoded data removed]",
            "text/plain": [
              "<Figure size 1440x576 with 1 Axes>"
            ]
          },
          "metadata": {
            "tags": [],
            "needs_background": "light"
          }
        }
      ]
    },
    {
      "cell_type": "code",
      "metadata": {
        "colab": {
          "base_uri": "https://localhost:8080/",
          "height": 700
        },
        "id": "E5CN3IDX1Ew4",
        "outputId": "8e6ef34a-1a20-44f4-d439-58be2cf6ceb1"
      },
      "source": [
        "pd.set_option('display.max_rows', 50)\r\n",
        "x1 = traindata[traindata['Edition Year'].apply(lambda x: str(x).isalpha())]\r\n",
        "x1"
      ],
      "execution_count": 288,
      "outputs": [
        {
          "output_type": "execute_result",
          "data": {
            "text/html": [
              "<div>\n",
              "<style scoped>\n",
              "    .dataframe tbody tr th:only-of-type {\n",
              "        vertical-align: middle;\n",
              "    }\n",
              "\n",
              "    .dataframe tbody tr th {\n",
              "        vertical-align: top;\n",
              "    }\n",
              "\n",
              "    .dataframe thead th {\n",
              "        text-align: right;\n",
              "    }\n",
              "</style>\n",
              "<table border=\"1\" class=\"dataframe\">\n",
              "  <thead>\n",
              "    <tr style=\"text-align: right;\">\n",
              "      <th></th>\n",
              "      <th>Author</th>\n",
              "      <th>Price</th>\n",
              "      <th>Edition Type</th>\n",
              "      <th>Edition Year</th>\n",
              "    </tr>\n",
              "  </thead>\n",
              "  <tbody>\n",
              "    <tr>\n",
              "      <th>169</th>\n",
              "      <td>Nelson Mandela</td>\n",
              "      <td>418.0</td>\n",
              "      <td>Paperback</td>\n",
              "      <td>Import</td>\n",
              "    </tr>\n",
              "    <tr>\n",
              "      <th>235</th>\n",
              "      <td>Willard A. Palmer</td>\n",
              "      <td>1453.0</td>\n",
              "      <td>Plastic Comb</td>\n",
              "      <td>NTSC</td>\n",
              "    </tr>\n",
              "    <tr>\n",
              "      <th>582</th>\n",
              "      <td>Barrington Barber</td>\n",
              "      <td>415.0</td>\n",
              "      <td>Paperback</td>\n",
              "      <td>Import</td>\n",
              "    </tr>\n",
              "    <tr>\n",
              "      <th>972</th>\n",
              "      <td>Ivan Hissey, Curtis Tappenden</td>\n",
              "      <td>445.0</td>\n",
              "      <td>Paperback</td>\n",
              "      <td>Import</td>\n",
              "    </tr>\n",
              "    <tr>\n",
              "      <th>1233</th>\n",
              "      <td>Bhakti Mathur</td>\n",
              "      <td>277.0</td>\n",
              "      <td>Paperback</td>\n",
              "      <td>Import</td>\n",
              "    </tr>\n",
              "    <tr>\n",
              "      <th>1558</th>\n",
              "      <td>James Hadley Chase</td>\n",
              "      <td>100.0</td>\n",
              "      <td>Hardcover</td>\n",
              "      <td>Facsimile</td>\n",
              "    </tr>\n",
              "    <tr>\n",
              "      <th>1605</th>\n",
              "      <td>Syal</td>\n",
              "      <td>399.0</td>\n",
              "      <td>Paperback</td>\n",
              "      <td>set</td>\n",
              "    </tr>\n",
              "    <tr>\n",
              "      <th>1631</th>\n",
              "      <td>Ace McCloud</td>\n",
              "      <td>709.0</td>\n",
              "      <td>Paperback</td>\n",
              "      <td>Import</td>\n",
              "    </tr>\n",
              "    <tr>\n",
              "      <th>1643</th>\n",
              "      <td>William Shakespeare</td>\n",
              "      <td>220.0</td>\n",
              "      <td>Paperback</td>\n",
              "      <td>Edition</td>\n",
              "    </tr>\n",
              "    <tr>\n",
              "      <th>1769</th>\n",
              "      <td>Rick Smolan</td>\n",
              "      <td>2248.0</td>\n",
              "      <td>Hardcover</td>\n",
              "      <td>set</td>\n",
              "    </tr>\n",
              "    <tr>\n",
              "      <th>2101</th>\n",
              "      <td>David J. Peterson</td>\n",
              "      <td>798.0</td>\n",
              "      <td>Hardcover</td>\n",
              "      <td>Unabridged</td>\n",
              "    </tr>\n",
              "    <tr>\n",
              "      <th>2229</th>\n",
              "      <td>Sudha Murty</td>\n",
              "      <td>188.0</td>\n",
              "      <td>Paperback</td>\n",
              "      <td>Print</td>\n",
              "    </tr>\n",
              "    <tr>\n",
              "      <th>2660</th>\n",
              "      <td>Scott Mariani</td>\n",
              "      <td>270.0</td>\n",
              "      <td>Paperback</td>\n",
              "      <td>set</td>\n",
              "    </tr>\n",
              "    <tr>\n",
              "      <th>2779</th>\n",
              "      <td>Bharti Dayal</td>\n",
              "      <td>805.0</td>\n",
              "      <td>Paperback</td>\n",
              "      <td>Import</td>\n",
              "    </tr>\n",
              "    <tr>\n",
              "      <th>3511</th>\n",
              "      <td>Frank Miller</td>\n",
              "      <td>1499.0</td>\n",
              "      <td>Paperback</td>\n",
              "      <td>set</td>\n",
              "    </tr>\n",
              "    <tr>\n",
              "      <th>3875</th>\n",
              "      <td>Agatha Christie</td>\n",
              "      <td>896.0</td>\n",
              "      <td>Hardcover</td>\n",
              "      <td>Import</td>\n",
              "    </tr>\n",
              "    <tr>\n",
              "      <th>3960</th>\n",
              "      <td>A.P.J. Abdul Kalam</td>\n",
              "      <td>123.0</td>\n",
              "      <td>Paperback</td>\n",
              "      <td>Audiobook</td>\n",
              "    </tr>\n",
              "    <tr>\n",
              "      <th>4036</th>\n",
              "      <td>The Mountaineers</td>\n",
              "      <td>1826.0</td>\n",
              "      <td>Paperback</td>\n",
              "      <td>Import</td>\n",
              "    </tr>\n",
              "    <tr>\n",
              "      <th>4403</th>\n",
              "      <td>Peter Van Ham</td>\n",
              "      <td>1542.0</td>\n",
              "      <td>Hardcover</td>\n",
              "      <td>Import</td>\n",
              "    </tr>\n",
              "    <tr>\n",
              "      <th>5117</th>\n",
              "      <td>Devdutt Pattanaik</td>\n",
              "      <td>180.0</td>\n",
              "      <td>Paperback</td>\n",
              "      <td>set</td>\n",
              "    </tr>\n",
              "    <tr>\n",
              "      <th>5860</th>\n",
              "      <td>Warwick Jessup</td>\n",
              "      <td>127.0</td>\n",
              "      <td>Paperback</td>\n",
              "      <td>Print</td>\n",
              "    </tr>\n",
              "  </tbody>\n",
              "</table>\n",
              "</div>"
            ],
            "text/plain": [
              "                             Author   Price  Edition Type Edition Year\n",
              "169                  Nelson Mandela   418.0     Paperback       Import\n",
              "235               Willard A. Palmer  1453.0  Plastic Comb         NTSC\n",
              "582               Barrington Barber   415.0     Paperback       Import\n",
              "972   Ivan Hissey, Curtis Tappenden   445.0     Paperback       Import\n",
              "1233                  Bhakti Mathur   277.0     Paperback       Import\n",
              "1558             James Hadley Chase   100.0     Hardcover    Facsimile\n",
              "1605                           Syal   399.0     Paperback          set\n",
              "1631                    Ace McCloud   709.0     Paperback       Import\n",
              "1643            William Shakespeare   220.0     Paperback      Edition\n",
              "1769                    Rick Smolan  2248.0     Hardcover          set\n",
              "2101              David J. Peterson   798.0     Hardcover   Unabridged\n",
              "2229                    Sudha Murty   188.0     Paperback        Print\n",
              "2660                  Scott Mariani   270.0     Paperback          set\n",
              "2779                   Bharti Dayal   805.0     Paperback       Import\n",
              "3511                   Frank Miller  1499.0     Paperback          set\n",
              "3875                Agatha Christie   896.0     Hardcover       Import\n",
              "3960             A.P.J. Abdul Kalam   123.0     Paperback    Audiobook\n",
              "4036               The Mountaineers  1826.0     Paperback       Import\n",
              "4403                  Peter Van Ham  1542.0     Hardcover       Import\n",
              "5117              Devdutt Pattanaik   180.0     Paperback          set\n",
              "5860                 Warwick Jessup   127.0     Paperback        Print"
            ]
          },
          "metadata": {
            "tags": []
          },
          "execution_count": 288
        }
      ]
    },
    {
      "cell_type": "code",
      "metadata": {
        "colab": {
          "base_uri": "https://localhost:8080/",
          "height": 328
        },
        "id": "HS7RbQ0A0wVh",
        "outputId": "ccc6872b-cf89-41cc-ab3a-a8646a89c9fd"
      },
      "source": [
        "pd.set_option('display.max_rows', 50)\r\n",
        "x2 = testdata[testdata['Edition Year'].apply(lambda x: str(x).isalpha())]\r\n",
        "x2"
      ],
      "execution_count": 289,
      "outputs": [
        {
          "output_type": "execute_result",
          "data": {
            "text/html": [
              "<div>\n",
              "<style scoped>\n",
              "    .dataframe tbody tr th:only-of-type {\n",
              "        vertical-align: middle;\n",
              "    }\n",
              "\n",
              "    .dataframe tbody tr th {\n",
              "        vertical-align: top;\n",
              "    }\n",
              "\n",
              "    .dataframe thead th {\n",
              "        text-align: right;\n",
              "    }\n",
              "</style>\n",
              "<table border=\"1\" class=\"dataframe\">\n",
              "  <thead>\n",
              "    <tr style=\"text-align: right;\">\n",
              "      <th></th>\n",
              "      <th>Author</th>\n",
              "      <th>Edition Type</th>\n",
              "      <th>Edition Year</th>\n",
              "    </tr>\n",
              "  </thead>\n",
              "  <tbody>\n",
              "    <tr>\n",
              "      <th>97</th>\n",
              "      <td>Preeti Shenoy</td>\n",
              "      <td>Paperback</td>\n",
              "      <td>Print</td>\n",
              "    </tr>\n",
              "    <tr>\n",
              "      <th>178</th>\n",
              "      <td>Jason Quinn, Sachin Nagar</td>\n",
              "      <td>Paperback</td>\n",
              "      <td>Illustrated</td>\n",
              "    </tr>\n",
              "    <tr>\n",
              "      <th>396</th>\n",
              "      <td>Paul Lockhart</td>\n",
              "      <td>Paperback</td>\n",
              "      <td>Print</td>\n",
              "    </tr>\n",
              "    <tr>\n",
              "      <th>579</th>\n",
              "      <td>A.S. Dulat</td>\n",
              "      <td>Hardcover</td>\n",
              "      <td>Import</td>\n",
              "    </tr>\n",
              "    <tr>\n",
              "      <th>955</th>\n",
              "      <td>ESPN Cricinfo</td>\n",
              "      <td>Paperback</td>\n",
              "      <td>Print</td>\n",
              "    </tr>\n",
              "    <tr>\n",
              "      <th>1179</th>\n",
              "      <td>Sam Lake</td>\n",
              "      <td>Hardcover</td>\n",
              "      <td>set</td>\n",
              "    </tr>\n",
              "    <tr>\n",
              "      <th>1191</th>\n",
              "      <td>Steve Haines</td>\n",
              "      <td>Paperback</td>\n",
              "      <td>Import</td>\n",
              "    </tr>\n",
              "    <tr>\n",
              "      <th>1408</th>\n",
              "      <td>Frank Miller</td>\n",
              "      <td>Paperback</td>\n",
              "      <td>set</td>\n",
              "    </tr>\n",
              "    <tr>\n",
              "      <th>1541</th>\n",
              "      <td>Ivan Hissey, Curtis Tappenden</td>\n",
              "      <td>Paperback</td>\n",
              "      <td>Import</td>\n",
              "    </tr>\n",
              "  </tbody>\n",
              "</table>\n",
              "</div>"
            ],
            "text/plain": [
              "                             Author Edition Type Edition Year\n",
              "97                    Preeti Shenoy    Paperback        Print\n",
              "178       Jason Quinn, Sachin Nagar    Paperback  Illustrated\n",
              "396                   Paul Lockhart    Paperback        Print\n",
              "579                      A.S. Dulat    Hardcover       Import\n",
              "955                   ESPN Cricinfo    Paperback        Print\n",
              "1179                       Sam Lake    Hardcover          set\n",
              "1191                   Steve Haines    Paperback       Import\n",
              "1408                   Frank Miller    Paperback          set\n",
              "1541  Ivan Hissey, Curtis Tappenden    Paperback       Import"
            ]
          },
          "metadata": {
            "tags": []
          },
          "execution_count": 289
        }
      ]
    },
    {
      "cell_type": "code",
      "metadata": {
        "id": "AXs168oz1yWk"
      },
      "source": [
        "traindata = traindata[traindata['Edition Year'].apply(lambda x: str(x).isdigit())]"
      ],
      "execution_count": 290,
      "outputs": []
    },
    {
      "cell_type": "code",
      "metadata": {
        "colab": {
          "base_uri": "https://localhost:8080/"
        },
        "id": "3bmzfDFb19hx",
        "outputId": "ef0f0817-c2b8-48d9-a2bc-2546cddb7938"
      },
      "source": [
        "traindata.dtypes"
      ],
      "execution_count": 291,
      "outputs": [
        {
          "output_type": "execute_result",
          "data": {
            "text/plain": [
              "Author           object\n",
              "Price           float64\n",
              "Edition Type     object\n",
              "Edition Year     object\n",
              "dtype: object"
            ]
          },
          "metadata": {
            "tags": []
          },
          "execution_count": 291
        }
      ]
    },
    {
      "cell_type": "code",
      "metadata": {
        "id": "vRQvtbgR2K-L"
      },
      "source": [
        "traindata['Edition Year'] = traindata['Edition Year'].astype('int64')"
      ],
      "execution_count": 292,
      "outputs": []
    },
    {
      "cell_type": "code",
      "metadata": {
        "colab": {
          "base_uri": "https://localhost:8080/"
        },
        "id": "uBUg2_tM2Rjt",
        "outputId": "2bc67581-b0ee-48c7-bdb0-1e97e5f7dbf7"
      },
      "source": [
        "traindata.dtypes"
      ],
      "execution_count": 293,
      "outputs": [
        {
          "output_type": "execute_result",
          "data": {
            "text/plain": [
              "Author           object\n",
              "Price           float64\n",
              "Edition Type     object\n",
              "Edition Year      int64\n",
              "dtype: object"
            ]
          },
          "metadata": {
            "tags": []
          },
          "execution_count": 293
        }
      ]
    },
    {
      "cell_type": "code",
      "metadata": {
        "id": "ZBDnJrB73Kvi"
      },
      "source": [
        "testdata = testdata[testdata['Edition Year'].apply(lambda x: str(x).isdigit())]"
      ],
      "execution_count": 294,
      "outputs": []
    },
    {
      "cell_type": "code",
      "metadata": {
        "colab": {
          "base_uri": "https://localhost:8080/"
        },
        "id": "kjvAI2vR3Rk9",
        "outputId": "d50139a4-8f82-4b3e-eb28-206a7c7b8d04"
      },
      "source": [
        "testdata.dtypes"
      ],
      "execution_count": 295,
      "outputs": [
        {
          "output_type": "execute_result",
          "data": {
            "text/plain": [
              "Author          object\n",
              "Edition Type    object\n",
              "Edition Year    object\n",
              "dtype: object"
            ]
          },
          "metadata": {
            "tags": []
          },
          "execution_count": 295
        }
      ]
    },
    {
      "cell_type": "code",
      "metadata": {
        "colab": {
          "base_uri": "https://localhost:8080/"
        },
        "id": "gnOA5jsZ3WCT",
        "outputId": "2345abde-16b0-4365-b264-7d050237ff28"
      },
      "source": [
        "testdata['Edition Year']=testdata['Edition Year'].astype('int64')\r\n",
        "testdata.dtypes"
      ],
      "execution_count": 296,
      "outputs": [
        {
          "output_type": "execute_result",
          "data": {
            "text/plain": [
              "Author          object\n",
              "Edition Type    object\n",
              "Edition Year     int64\n",
              "dtype: object"
            ]
          },
          "metadata": {
            "tags": []
          },
          "execution_count": 296
        }
      ]
    },
    {
      "cell_type": "code",
      "metadata": {
        "colab": {
          "base_uri": "https://localhost:8080/"
        },
        "id": "cOXfHoma4qIz",
        "outputId": "6470acdb-797d-490d-b621-ea856fd568b6"
      },
      "source": [
        "traindata['Edition Year'].corr(traindata.Price)"
      ],
      "execution_count": 297,
      "outputs": [
        {
          "output_type": "execute_result",
          "data": {
            "text/plain": [
              "-0.0248136947601535"
            ]
          },
          "metadata": {
            "tags": []
          },
          "execution_count": 297
        }
      ]
    },
    {
      "cell_type": "code",
      "metadata": {
        "colab": {
          "base_uri": "https://localhost:8080/",
          "height": 111
        },
        "id": "rk32W1k245Qr",
        "outputId": "6f2cd534-7af0-4d60-f380-852410bf8df3"
      },
      "source": [
        "traindata.corr()"
      ],
      "execution_count": 298,
      "outputs": [
        {
          "output_type": "execute_result",
          "data": {
            "text/html": [
              "<div>\n",
              "<style scoped>\n",
              "    .dataframe tbody tr th:only-of-type {\n",
              "        vertical-align: middle;\n",
              "    }\n",
              "\n",
              "    .dataframe tbody tr th {\n",
              "        vertical-align: top;\n",
              "    }\n",
              "\n",
              "    .dataframe thead th {\n",
              "        text-align: right;\n",
              "    }\n",
              "</style>\n",
              "<table border=\"1\" class=\"dataframe\">\n",
              "  <thead>\n",
              "    <tr style=\"text-align: right;\">\n",
              "      <th></th>\n",
              "      <th>Price</th>\n",
              "      <th>Edition Year</th>\n",
              "    </tr>\n",
              "  </thead>\n",
              "  <tbody>\n",
              "    <tr>\n",
              "      <th>Price</th>\n",
              "      <td>1.000000</td>\n",
              "      <td>-0.024814</td>\n",
              "    </tr>\n",
              "    <tr>\n",
              "      <th>Edition Year</th>\n",
              "      <td>-0.024814</td>\n",
              "      <td>1.000000</td>\n",
              "    </tr>\n",
              "  </tbody>\n",
              "</table>\n",
              "</div>"
            ],
            "text/plain": [
              "                 Price  Edition Year\n",
              "Price         1.000000     -0.024814\n",
              "Edition Year -0.024814      1.000000"
            ]
          },
          "metadata": {
            "tags": []
          },
          "execution_count": 298
        }
      ]
    },
    {
      "cell_type": "markdown",
      "metadata": {
        "id": "t-r2HdQfmq2D"
      },
      "source": [
        "checking label encoding"
      ]
    },
    {
      "cell_type": "code",
      "metadata": {
        "colab": {
          "base_uri": "https://localhost:8080/"
        },
        "id": "0-q5u2NSmicF",
        "outputId": "c377c06a-1fd1-48ab-f1b5-847d19b7ea9a"
      },
      "source": [
        "set(traindata['Author'])==set(testdata['Author'])"
      ],
      "execution_count": 299,
      "outputs": [
        {
          "output_type": "execute_result",
          "data": {
            "text/plain": [
              "False"
            ]
          },
          "metadata": {
            "tags": []
          },
          "execution_count": 299
        }
      ]
    },
    {
      "cell_type": "code",
      "metadata": {
        "colab": {
          "base_uri": "https://localhost:8080/"
        },
        "id": "R0bxGQ_MoK2I",
        "outputId": "2c02f66c-d961-4a7d-e907-7a0e3b42f760"
      },
      "source": [
        "set(traindata['Edition Type'])==set(testdata['Edition Type'])"
      ],
      "execution_count": 300,
      "outputs": [
        {
          "output_type": "execute_result",
          "data": {
            "text/plain": [
              "False"
            ]
          },
          "metadata": {
            "tags": []
          },
          "execution_count": 300
        }
      ]
    },
    {
      "cell_type": "code",
      "metadata": {
        "colab": {
          "base_uri": "https://localhost:8080/"
        },
        "id": "Qyvo03JNoecp",
        "outputId": "bfa460d7-c341-4913-fd41-0682045c9d03"
      },
      "source": [
        "traindata['Edition Type'] = traindata['Edition Type'].replace(['Tankobon Softcover',\r\n",
        "                                                                 'Loose Leaf',\r\n",
        "                                                                 'Board book',\r\n",
        "                                                                 'Leather Bound',\r\n",
        "                                                                 'Product Bundle',\r\n",
        "                                                                 'Library Binding'], 'Rare')\r\n",
        "traindata['Edition Type'] = traindata['Edition Type'].replace(['Perfect Paperback',\r\n",
        "                                                                 '(German)Paperback',\r\n",
        "                                                                 '(Kannada)Paperback',\r\n",
        "                                                                 '(French)Paperback',\r\n",
        "                                                                 '(Spanish)Paperback'], 'Paperback')\r\n",
        "traindata['Edition Type'].value_counts()"
      ],
      "execution_count": 301,
      "outputs": [
        {
          "output_type": "execute_result",
          "data": {
            "text/plain": [
              "Paperback                5183\n",
              "Hardcover                 818\n",
              "Mass Market Paperback     155\n",
              "Sheet music                24\n",
              "Flexibound                 15\n",
              "Rare                        9\n",
              "Cards                       8\n",
              "Spiral-bound                4\n",
              "Name: Edition Type, dtype: int64"
            ]
          },
          "metadata": {
            "tags": []
          },
          "execution_count": 301
        }
      ]
    },
    {
      "cell_type": "code",
      "metadata": {
        "colab": {
          "base_uri": "https://localhost:8080/"
        },
        "id": "s1u8AVEHoy4a",
        "outputId": "7c447362-91b7-4e3c-e46a-1208634c5a6d"
      },
      "source": [
        "testdata['Edition Type'] = testdata['Edition Type'].replace(['Loose Leaf'], 'Rare')\r\n",
        "testdata['Edition Type'] = testdata['Edition Type'].replace(['(Chinese)Paperback'], 'Paperback')\r\n",
        "testdata['Edition Type'].value_counts()"
      ],
      "execution_count": 302,
      "outputs": [
        {
          "output_type": "execute_result",
          "data": {
            "text/plain": [
              "Paperback                1259\n",
              "Hardcover                 231\n",
              "Mass Market Paperback      45\n",
              "Sheet music                 8\n",
              "Flexibound                  4\n",
              "Spiral-bound                2\n",
              "Cards                       1\n",
              "Rare                        1\n",
              "Name: Edition Type, dtype: int64"
            ]
          },
          "metadata": {
            "tags": []
          },
          "execution_count": 302
        }
      ]
    },
    {
      "cell_type": "code",
      "metadata": {
        "colab": {
          "base_uri": "https://localhost:8080/"
        },
        "id": "QfYQnBj5pAtx",
        "outputId": "77adcd8b-3255-4c7c-f537-d90c826f67ca"
      },
      "source": [
        "set(traindata['Edition Type'])==set(testdata['Edition Type'])"
      ],
      "execution_count": 303,
      "outputs": [
        {
          "output_type": "execute_result",
          "data": {
            "text/plain": [
              "True"
            ]
          },
          "metadata": {
            "tags": []
          },
          "execution_count": 303
        }
      ]
    },
    {
      "cell_type": "code",
      "metadata": {
        "colab": {
          "base_uri": "https://localhost:8080/"
        },
        "id": "8XRy4dPypWhR",
        "outputId": "5375bc91-f902-4650-f97b-b5351df4c3d9"
      },
      "source": [
        "from sklearn.preprocessing import LabelEncoder\r\n",
        "\r\n",
        "labelencoder = LabelEncoder()\r\n",
        "#traindata['BookCategory'] = labelencoder.fit_transform(traindata['BookCategory'])\r\n",
        "#testdata['BookCategory'] = labelencoder.fit_transform(testdata['BookCategory'])\r\n",
        "\r\n",
        "traindata['Edition Type'] = labelencoder.fit_transform(traindata['Edition Type'])\r\n",
        "testdata['Edition Type'] = labelencoder.fit_transform(testdata['Edition Type'])\r\n",
        "\r\n",
        "print(traindata.head())"
      ],
      "execution_count": 304,
      "outputs": [
        {
          "output_type": "stream",
          "text": [
            "            Author   Price  Edition Type  Edition Year\n",
            "0   Chris Kuzneski  220.00             4          2016\n",
            "1     Arun Khopkar  202.93             4          2012\n",
            "2    Thomas Hobbes  299.00             4          1982\n",
            "3  Agatha Christie  180.00             4          2017\n",
            "4  Editors of Life  965.62             2          2006\n"
          ],
          "name": "stdout"
        }
      ]
    },
    {
      "cell_type": "code",
      "metadata": {
        "colab": {
          "base_uri": "https://localhost:8080/",
          "height": 204
        },
        "id": "Zg7Csvv3qWca",
        "outputId": "696bd9a1-efdc-4583-cede-8a94b9613536"
      },
      "source": [
        "traindata.drop(columns=['Author'], inplace=True)\r\n",
        "testdata.drop(columns=[ 'Author'], inplace=True)\r\n",
        "traindata.head()"
      ],
      "execution_count": 305,
      "outputs": [
        {
          "output_type": "execute_result",
          "data": {
            "text/html": [
              "<div>\n",
              "<style scoped>\n",
              "    .dataframe tbody tr th:only-of-type {\n",
              "        vertical-align: middle;\n",
              "    }\n",
              "\n",
              "    .dataframe tbody tr th {\n",
              "        vertical-align: top;\n",
              "    }\n",
              "\n",
              "    .dataframe thead th {\n",
              "        text-align: right;\n",
              "    }\n",
              "</style>\n",
              "<table border=\"1\" class=\"dataframe\">\n",
              "  <thead>\n",
              "    <tr style=\"text-align: right;\">\n",
              "      <th></th>\n",
              "      <th>Price</th>\n",
              "      <th>Edition Type</th>\n",
              "      <th>Edition Year</th>\n",
              "    </tr>\n",
              "  </thead>\n",
              "  <tbody>\n",
              "    <tr>\n",
              "      <th>0</th>\n",
              "      <td>220.00</td>\n",
              "      <td>4</td>\n",
              "      <td>2016</td>\n",
              "    </tr>\n",
              "    <tr>\n",
              "      <th>1</th>\n",
              "      <td>202.93</td>\n",
              "      <td>4</td>\n",
              "      <td>2012</td>\n",
              "    </tr>\n",
              "    <tr>\n",
              "      <th>2</th>\n",
              "      <td>299.00</td>\n",
              "      <td>4</td>\n",
              "      <td>1982</td>\n",
              "    </tr>\n",
              "    <tr>\n",
              "      <th>3</th>\n",
              "      <td>180.00</td>\n",
              "      <td>4</td>\n",
              "      <td>2017</td>\n",
              "    </tr>\n",
              "    <tr>\n",
              "      <th>4</th>\n",
              "      <td>965.62</td>\n",
              "      <td>2</td>\n",
              "      <td>2006</td>\n",
              "    </tr>\n",
              "  </tbody>\n",
              "</table>\n",
              "</div>"
            ],
            "text/plain": [
              "    Price  Edition Type  Edition Year\n",
              "0  220.00             4          2016\n",
              "1  202.93             4          2012\n",
              "2  299.00             4          1982\n",
              "3  180.00             4          2017\n",
              "4  965.62             2          2006"
            ]
          },
          "metadata": {
            "tags": []
          },
          "execution_count": 305
        }
      ]
    },
    {
      "cell_type": "code",
      "metadata": {
        "id": "DBz00sLq6g4V",
        "colab": {
          "base_uri": "https://localhost:8080/"
        },
        "outputId": "b76a4aea-f0b5-4f27-9825-2a177e98b30b"
      },
      "source": [
        "from sklearn.model_selection import train_test_split\r\n",
        "\r\n",
        "traindata['Edition Type']=traindata['Edition Type'].astype('int64')\r\n",
        "traindata['Edition Year']=traindata['Edition Year'].astype('int64')\r\n",
        "traindata['Price']=traindata['Price'].astype('int64')\r\n",
        "print(traindata.dtypes)\r\n",
        "\r\n",
        "array = traindata.values\r\n",
        "X = array[:, 1:3]\r\n",
        "Y = array[:, 0]\r\n",
        "print(X)\r\n",
        "print('\\n')\r\n",
        "\r\n",
        "print(Y)\r\n",
        "x_train, x_valid, y_train, y_valid = train_test_split(X, Y, test_size=0.20, random_state=1)"
      ],
      "execution_count": 306,
      "outputs": [
        {
          "output_type": "stream",
          "text": [
            "Price           int64\n",
            "Edition Type    int64\n",
            "Edition Year    int64\n",
            "dtype: object\n",
            "[[   4 2016]\n",
            " [   4 2012]\n",
            " [   4 1982]\n",
            " ...\n",
            " [   4 2006]\n",
            " [   4 2015]\n",
            " [   4 2016]]\n",
            "\n",
            "\n",
            "[220 202 299 ... 399 319 452]\n"
          ],
          "name": "stdout"
        }
      ]
    },
    {
      "cell_type": "code",
      "metadata": {
        "colab": {
          "base_uri": "https://localhost:8080/"
        },
        "id": "eGgXUgR573Ov",
        "outputId": "3faf98f8-c699-4819-e633-59b54132ebb0"
      },
      "source": [
        "from sklearn.linear_model import LogisticRegression\r\n",
        "from sklearn.tree import DecisionTreeClassifier\r\n",
        "from sklearn.neighbors import KNeighborsClassifier\r\n",
        "from sklearn.discriminant_analysis import LinearDiscriminantAnalysis\r\n",
        "from sklearn.naive_bayes import GaussianNB\r\n",
        "from sklearn.svm import SVC\r\n",
        "from sklearn.svm import SVR\r\n",
        "from sklearn.ensemble import RandomForestRegressor\r\n",
        "from sklearn.ensemble import ExtraTreesRegressor\r\n",
        "from sklearn.metrics import mean_absolute_error\r\n",
        "\r\n",
        "models=[]\r\n",
        "models.append(('LR', LogisticRegression()))\r\n",
        "models.append(('LDA', LinearDiscriminantAnalysis()))\r\n",
        "models.append(('KNN', KNeighborsClassifier()))\r\n",
        "models.append(('CART', DecisionTreeClassifier()))\r\n",
        "models.append(('NB', GaussianNB()))\r\n",
        "models.append(('SVM', SVC()))\r\n",
        "\r\n",
        "# evaluate each model in turn\r\n",
        "results = []\r\n",
        "names = []\r\n",
        "for name, model in models:\r\n",
        "    model.fit(x_train, y_train)\r\n",
        "    predictions = model.predict(x_valid)\r\n",
        "    cv_results = mean_absolute_error(y_valid, predictions)\r\n",
        "    results.append(cv_results)\r\n",
        "    names.append(name)\r\n",
        "    msg = \"%s: %f\" % (name, cv_results)\r\n",
        "    print(msg)"
      ],
      "execution_count": 307,
      "outputs": [
        {
          "output_type": "stream",
          "text": [
            "LR: 325.792605\n",
            "LDA: 343.044212\n",
            "KNN: 379.615756\n",
            "CART: 351.283762\n",
            "NB: 609.412379\n",
            "SVM: 336.334405\n"
          ],
          "name": "stdout"
        }
      ]
    },
    {
      "cell_type": "code",
      "metadata": {
        "colab": {
          "base_uri": "https://localhost:8080/"
        },
        "id": "CbtnQyXRri7b",
        "outputId": "01ae58e3-1461-4fcb-aca0-54f1d90fff33"
      },
      "source": [
        "LR = LogisticRegression()\r\n",
        "\r\n",
        "LR.fit(x_train, y_train)"
      ],
      "execution_count": 308,
      "outputs": [
        {
          "output_type": "execute_result",
          "data": {
            "text/plain": [
              "LogisticRegression(C=1.0, class_weight=None, dual=False, fit_intercept=True,\n",
              "                   intercept_scaling=1, l1_ratio=None, max_iter=100,\n",
              "                   multi_class='auto', n_jobs=None, penalty='l2',\n",
              "                   random_state=None, solver='lbfgs', tol=0.0001, verbose=0,\n",
              "                   warm_start=False)"
            ]
          },
          "metadata": {
            "tags": []
          },
          "execution_count": 308
        }
      ]
    },
    {
      "cell_type": "code",
      "metadata": {
        "id": "KoPGDs3VzAVG"
      },
      "source": [
        "\r\n",
        "predictions = LR.predict(x_valid)"
      ],
      "execution_count": 313,
      "outputs": []
    },
    {
      "cell_type": "code",
      "metadata": {
        "id": "PN2w8d7w0HoO",
        "colab": {
          "base_uri": "https://localhost:8080/",
          "height": 669
        },
        "outputId": "ebf39a55-89e1-4f4c-cd3f-59f68081b03f"
      },
      "source": [
        "np.set_printoptions(precision=2)\r\n",
        "df = pd.DataFrame({'Prediction':predictions,\r\n",
        "                   'actual': y_valid})\r\n",
        "df.head(20)"
      ],
      "execution_count": 314,
      "outputs": [
        {
          "output_type": "execute_result",
          "data": {
            "text/html": [
              "<div>\n",
              "<style scoped>\n",
              "    .dataframe tbody tr th:only-of-type {\n",
              "        vertical-align: middle;\n",
              "    }\n",
              "\n",
              "    .dataframe tbody tr th {\n",
              "        vertical-align: top;\n",
              "    }\n",
              "\n",
              "    .dataframe thead th {\n",
              "        text-align: right;\n",
              "    }\n",
              "</style>\n",
              "<table border=\"1\" class=\"dataframe\">\n",
              "  <thead>\n",
              "    <tr style=\"text-align: right;\">\n",
              "      <th></th>\n",
              "      <th>Prediction</th>\n",
              "      <th>actual</th>\n",
              "    </tr>\n",
              "  </thead>\n",
              "  <tbody>\n",
              "    <tr>\n",
              "      <th>0</th>\n",
              "      <td>299</td>\n",
              "      <td>665</td>\n",
              "    </tr>\n",
              "    <tr>\n",
              "      <th>1</th>\n",
              "      <td>299</td>\n",
              "      <td>603</td>\n",
              "    </tr>\n",
              "    <tr>\n",
              "      <th>2</th>\n",
              "      <td>299</td>\n",
              "      <td>1821</td>\n",
              "    </tr>\n",
              "    <tr>\n",
              "      <th>3</th>\n",
              "      <td>299</td>\n",
              "      <td>130</td>\n",
              "    </tr>\n",
              "    <tr>\n",
              "      <th>4</th>\n",
              "      <td>299</td>\n",
              "      <td>300</td>\n",
              "    </tr>\n",
              "    <tr>\n",
              "      <th>5</th>\n",
              "      <td>299</td>\n",
              "      <td>339</td>\n",
              "    </tr>\n",
              "    <tr>\n",
              "      <th>6</th>\n",
              "      <td>299</td>\n",
              "      <td>415</td>\n",
              "    </tr>\n",
              "    <tr>\n",
              "      <th>7</th>\n",
              "      <td>449</td>\n",
              "      <td>568</td>\n",
              "    </tr>\n",
              "    <tr>\n",
              "      <th>8</th>\n",
              "      <td>299</td>\n",
              "      <td>110</td>\n",
              "    </tr>\n",
              "    <tr>\n",
              "      <th>9</th>\n",
              "      <td>299</td>\n",
              "      <td>330</td>\n",
              "    </tr>\n",
              "    <tr>\n",
              "      <th>10</th>\n",
              "      <td>299</td>\n",
              "      <td>659</td>\n",
              "    </tr>\n",
              "    <tr>\n",
              "      <th>11</th>\n",
              "      <td>449</td>\n",
              "      <td>610</td>\n",
              "    </tr>\n",
              "    <tr>\n",
              "      <th>12</th>\n",
              "      <td>299</td>\n",
              "      <td>1023</td>\n",
              "    </tr>\n",
              "    <tr>\n",
              "      <th>13</th>\n",
              "      <td>299</td>\n",
              "      <td>1064</td>\n",
              "    </tr>\n",
              "    <tr>\n",
              "      <th>14</th>\n",
              "      <td>299</td>\n",
              "      <td>554</td>\n",
              "    </tr>\n",
              "    <tr>\n",
              "      <th>15</th>\n",
              "      <td>299</td>\n",
              "      <td>517</td>\n",
              "    </tr>\n",
              "    <tr>\n",
              "      <th>16</th>\n",
              "      <td>299</td>\n",
              "      <td>517</td>\n",
              "    </tr>\n",
              "    <tr>\n",
              "      <th>17</th>\n",
              "      <td>299</td>\n",
              "      <td>963</td>\n",
              "    </tr>\n",
              "    <tr>\n",
              "      <th>18</th>\n",
              "      <td>299</td>\n",
              "      <td>783</td>\n",
              "    </tr>\n",
              "    <tr>\n",
              "      <th>19</th>\n",
              "      <td>299</td>\n",
              "      <td>369</td>\n",
              "    </tr>\n",
              "  </tbody>\n",
              "</table>\n",
              "</div>"
            ],
            "text/plain": [
              "    Prediction  actual\n",
              "0          299     665\n",
              "1          299     603\n",
              "2          299    1821\n",
              "3          299     130\n",
              "4          299     300\n",
              "5          299     339\n",
              "6          299     415\n",
              "7          449     568\n",
              "8          299     110\n",
              "9          299     330\n",
              "10         299     659\n",
              "11         449     610\n",
              "12         299    1023\n",
              "13         299    1064\n",
              "14         299     554\n",
              "15         299     517\n",
              "16         299     517\n",
              "17         299     963\n",
              "18         299     783\n",
              "19         299     369"
            ]
          },
          "metadata": {
            "tags": []
          },
          "execution_count": 314
        }
      ]
    },
    {
      "cell_type": "code",
      "metadata": {
        "id": "lYpGH30m0L-k"
      },
      "source": [
        "#df.to_csv('Predictions.csv', index=False)"
      ],
      "execution_count": 311,
      "outputs": []
    },
    {
      "cell_type": "code",
      "metadata": {
        "id": "7-n7ybld0Q87"
      },
      "source": [
        "#p = pd.read_csv('Predictions.csv')\r\n",
        "#p\r\n"
      ],
      "execution_count": 312,
      "outputs": []
    }
  ]
}